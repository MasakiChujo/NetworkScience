{
 "cells": [
  {
   "cell_type": "code",
   "execution_count": 219,
   "metadata": {},
   "outputs": [],
   "source": [
    "import networkx as nx\n",
    "import numpy as np\n",
    "import matplotlib.pyplot as plt\n",
    "import collections"
   ]
  },
  {
   "cell_type": "markdown",
   "metadata": {},
   "source": [
    "気になる論文を見つけたのでちょっと確認  \n",
    "Revisiting power-law distributions in spectra of real world networks  \n",
    "https://www.kdd.org/kdd2017/papers/view/revisiting-power-law-distributions-in-spectra-of-real-world-networks  "
   ]
  },
  {
   "cell_type": "code",
   "execution_count": 220,
   "metadata": {},
   "outputs": [],
   "source": [
    "n=500\n",
    "m=4\n",
    "G=nx.barabasi_albert_graph(n,m)"
   ]
  },
  {
   "cell_type": "code",
   "execution_count": 221,
   "metadata": {},
   "outputs": [
    {
     "data": {
      "image/png": "[encoded data removed]",
      "text/plain": [
       "<Figure size 432x288 with 1 Axes>"
      ]
     },
     "metadata": {
      "needs_background": "light"
     },
     "output_type": "display_data"
    }
   ],
   "source": [
    "# Sampleコードを引用したもの、次数分布を示す(log-log)\n",
    "degree_sequence = sorted([d for n, d in G.degree()], reverse=True)  # degree sequence\n",
    "degreeCount = collections.Counter(degree_sequence)\n",
    "deg, cnt = zip(*degreeCount.items())\n",
    "\n",
    "fig, ax = plt.subplots()\n",
    "plt.scatter(deg, cnt, color='b')\n",
    "#plt.bar(deg, cnt, width=0.80, color='b')\n",
    "\n",
    "plt.title(\"Degree Histogram\")\n",
    "plt.ylabel(\"Count\")\n",
    "plt.xlabel(\"Degree\")\n",
    "ax.set_xticks([d + 0.4 for d in deg])\n",
    "ax.set_xticklabels(deg)\n",
    "ax.set_xscale('log')\n",
    "ax.set_yscale('log')\n",
    "\n",
    "plt.show()"
   ]
  },
  {
   "cell_type": "code",
   "execution_count": 222,
   "metadata": {},
   "outputs": [],
   "source": [
    "import scipy.sparse.linalg as LA\n",
    "LL=nx.laplacian_matrix(G)\n",
    "LL=LL.asfptype()\n",
    "eig_val, eige_vec = LA.eigs(LL,k=G.number_of_nodes()-100)\n",
    "#print(eig_val)\n",
    "#print(type(eig_val))"
   ]
  },
  {
   "cell_type": "code",
   "execution_count": 223,
   "metadata": {},
   "outputs": [
    {
     "data": {
      "image/png": "[encoded data removed]",
      "text/plain": [
       "<Figure size 432x288 with 1 Axes>"
      ]
     },
     "metadata": {
      "needs_background": "light"
     },
     "output_type": "display_data"
    }
   ],
   "source": [
    "plt.xscale('log')\n",
    "plt.yscale('log')\n",
    "L=plt.hist(eig_val,bins=100)"
   ]
  },
  {
   "cell_type": "code",
   "execution_count": 224,
   "metadata": {},
   "outputs": [
    {
     "data": {
      "image/png": "[encoded data removed]",
      "text/plain": [
       "<Figure size 432x288 with 1 Axes>"
      ]
     },
     "metadata": {
      "needs_background": "light"
     },
     "output_type": "display_data"
    }
   ],
   "source": [
    "AA=nx.adjacency_matrix(G)\n",
    "AA=AA.asfptype()\n",
    "U, s, V = LA.svds( AA ,k=G.number_of_nodes()-100)\n",
    "#print(U,s,V)\n",
    "plt.xscale('log')\n",
    "plt.yscale('log')\n",
    "#print(s)\n",
    "s=-(np.sort(-s))\n",
    "A=plt.hist(s,bins=100)"
   ]
  },
  {
   "cell_type": "code",
   "execution_count": 225,
   "metadata": {},
   "outputs": [
    {
     "name": "stdout",
     "output_type": "stream",
     "text": [
      "[85. 35. 42. 31. 30. 25. 21. 19. 15. 11. 11.  9.  6.  5.  5.  3.  5.  7.\n",
      "  3.  3.  1.  3.  2.  1.  2.  1.  1.  1.  2.  0.  0.  0.  1.  0.  0.  0.\n",
      "  0.  0.  0.  1.  0.  1.  0.  0.  1.  1.  0.  1.  0.  1.  1.  0.  0.  0.\n",
      "  1.  0.  0.  1.  0.  0.  1.  0.  0.  0.  0.  0.  1.  0.  0.  0.  0.  0.\n",
      "  0.  0.  0.  0.  0.  0.  0.  0.  0.  0.  0.  0.  0.  0.  1.  0.  1.  0.\n",
      "  0.  0.  0.  0.  0.  0.  0.  0.  0.  1.] [ 3.74692398  4.50506339  5.26320281  6.02134222  6.77948163  7.53762104\n",
      "  8.29576046  9.05389987  9.81203928 10.57017869 11.32831811 12.08645752\n",
      " 12.84459693 13.60273634 14.36087575 15.11901517 15.87715458 16.63529399\n",
      " 17.3934334  18.15157282 18.90971223 19.66785164 20.42599105 21.18413047\n",
      " 21.94226988 22.70040929 23.4585487  24.21668812 24.97482753 25.73296694\n",
      " 26.49110635 27.24924577 28.00738518 28.76552459 29.523664   30.28180342\n",
      " 31.03994283 31.79808224 32.55622165 33.31436106 34.07250048 34.83063989\n",
      " 35.5887793  36.34691871 37.10505813 37.86319754 38.62133695 39.37947636\n",
      " 40.13761578 40.89575519 41.6538946  42.41203401 43.17017343 43.92831284\n",
      " 44.68645225 45.44459166 46.20273108 46.96087049 47.7190099  48.47714931\n",
      " 49.23528873 49.99342814 50.75156755 51.50970696 52.26784638 53.02598579\n",
      " 53.7841252  54.54226461 55.30040402 56.05854344 56.81668285 57.57482226\n",
      " 58.33296167 59.09110109 59.8492405  60.60737991 61.36551932 62.12365874\n",
      " 62.88179815 63.63993756 64.39807697 65.15621639 65.9143558  66.67249521\n",
      " 67.43063462 68.18877404 68.94691345 69.70505286 70.46319227 71.22133169\n",
      " 71.9794711  72.73761051 73.49574992 74.25388933 75.01202875 75.77016816\n",
      " 76.52830757 77.28644698 78.0445864  78.80272581]\n"
     ]
    },
    {
     "name": "stderr",
     "output_type": "stream",
     "text": [
      "C:\\Anaconda3\\lib\\site-packages\\ipykernel_launcher.py:3: ComplexWarning: Casting complex values to real discards the imaginary part\n",
      "  This is separate from the ipykernel package so we can avoid doing imports until\n"
     ]
    },
    {
     "data": {
      "text/plain": [
       "<matplotlib.collections.PathCollection at 0x2787a3aa710>"
      ]
     },
     "execution_count": 225,
     "metadata": {},
     "output_type": "execute_result"
    },
    {
     "data": {
      "image/png": "[encoded data removed]",
      "text/plain": [
       "<Figure size 432x288 with 1 Axes>"
      ]
     },
     "metadata": {
      "needs_background": "light"
     },
     "output_type": "display_data"
    }
   ],
   "source": [
    "Lval=np.zeros(len(L[0]))\n",
    "for i in range(len(L[0])):\n",
    "    Lval[i]=(L[1][i]+L[1][i+1])/2.0\n",
    "print(L[0],Lval)\n",
    "plt.xscale('log')\n",
    "plt.yscale('log')\n",
    "plt.ylim([0.9,100])\n",
    "plt.xlim([4,80])\n",
    "plt.scatter(Lval,L[0])"
   ]
  },
  {
   "cell_type": "code",
   "execution_count": 105,
   "metadata": {},
   "outputs": [
    {
     "name": "stdout",
     "output_type": "stream",
     "text": [
      "[25. 23. 20. 21. 19. 22. 16. 16. 19. 17. 17. 14. 15. 12. 13. 11. 11. 11.\n",
      "  7.  7.  8.  7.  5.  5.  6.  5.  4.  4.  4.  1.  4.  3.  3.  1.  2.  1.\n",
      "  1.  1.  3.  1.  1.  1.  1.  2.  1.  0.  1.  2.  0.  1.  1.  0.  1.  1.\n",
      "  1.  0.  0.  0.  0.  0.  0.  0.  0.  0.  0.  0.  0.  0.  0.  0.  0.  0.\n",
      "  0.  0.  0.  0.  0.  0.  0.  0.  0.  0.  0.  0.  0.  0.  0.  0.  0.  0.\n",
      "  0.  0.  0.  0.  0.  0.  0.  0.  0.  1.] [ 0.67436164  0.82605778  0.97775392  1.12945005  1.28114619  1.43284232\n",
      "  1.58453846  1.73623459  1.88793073  2.03962686  2.191323    2.34301913\n",
      "  2.49471527  2.64641141  2.79810754  2.94980368  3.10149981  3.25319595\n",
      "  3.40489208  3.55658822  3.70828435  3.85998049  4.01167662  4.16337276\n",
      "  4.3150689   4.46676503  4.61846117  4.7701573   4.92185344  5.07354957\n",
      "  5.22524571  5.37694184  5.52863798  5.68033411  5.83203025  5.98372639\n",
      "  6.13542252  6.28711866  6.43881479  6.59051093  6.74220706  6.8939032\n",
      "  7.04559933  7.19729547  7.3489916   7.50068774  7.65238388  7.80408001\n",
      "  7.95577615  8.10747228  8.25916842  8.41086455  8.56256069  8.71425682\n",
      "  8.86595296  9.01764909  9.16934523  9.32104137  9.4727375   9.62443364\n",
      "  9.77612977  9.92782591 10.07952204 10.23121818 10.38291431 10.53461045\n",
      " 10.68630659 10.83800272 10.98969886 11.14139499 11.29309113 11.44478726\n",
      " 11.5964834  11.74817953 11.89987567 12.0515718  12.20326794 12.35496408\n",
      " 12.50666021 12.65835635 12.81005248 12.96174862 13.11344475 13.26514089\n",
      " 13.41683702 13.56853316 13.72022929 13.87192543 14.02362157 14.1753177\n",
      " 14.32701384 14.47870997 14.63040611 14.78210224 14.93379838 15.08549451\n",
      " 15.23719065 15.38888678 15.54058292 15.69227906]\n"
     ]
    },
    {
     "data": {
      "text/plain": [
       "<matplotlib.collections.PathCollection at 0x2786b701f60>"
      ]
     },
     "execution_count": 105,
     "metadata": {},
     "output_type": "execute_result"
    },
    {
     "data": {
      "image/png": "[encoded data removed]",
      "text/plain": [
       "<Figure size 432x288 with 1 Axes>"
      ]
     },
     "metadata": {
      "needs_background": "light"
     },
     "output_type": "display_data"
    }
   ],
   "source": [
    "Aval=np.zeros(len(A[0]))\n",
    "for i in range(len(A[0])):\n",
    "    Aval[i]=(A[1][i]+A[1][i+1])/2.0\n",
    "print(A[0],Aval)\n",
    "plt.xscale('log')\n",
    "plt.yscale('log')\n",
    "plt.ylim([0.9,30])\n",
    "plt.xlim([0,16])\n",
    "plt.scatter(Aval,A[0])"
   ]
  },
  {
   "cell_type": "code",
   "execution_count": 226,
   "metadata": {},
   "outputs": [],
   "source": [
    "from scipy.optimize import curve_fit"
   ]
  },
  {
   "cell_type": "code",
   "execution_count": 227,
   "metadata": {},
   "outputs": [],
   "source": [
    "def powerlaw(x,a,b):\n",
    "    return b*x**a"
   ]
  },
  {
   "cell_type": "code",
   "execution_count": 228,
   "metadata": {},
   "outputs": [],
   "source": [
    "def R2(y_data_1,x_data,popt,func):\n",
    "    residuals =  y_data_1- func(x_data, popt[0],popt[1])\n",
    "    rss = np.sum(residuals**2)#residual sum of squares = rss\n",
    "    tss = np.sum((y_data_1-np.mean(y_data_1))**2)#total sum of squares = tss\n",
    "    r_squared = 1 - (rss / tss)\n",
    "    return r_squared"
   ]
  },
  {
   "cell_type": "code",
   "execution_count": 242,
   "metadata": {
    "scrolled": false
   },
   "outputs": [
    {
     "name": "stdout",
     "output_type": "stream",
     "text": [
      "FIT :: y= 6161.781173242457 x^{ -2.604944257043028 }\n",
      "\n",
      "R2 value:: 0.9970598132894816\n"
     ]
    },
    {
     "data": {
      "image/png": "[encoded data removed]",
      "text/plain": [
       "<Figure size 432x288 with 1 Axes>"
      ]
     },
     "metadata": {
      "needs_background": "light"
     },
     "output_type": "display_data"
    },
    {
     "data": {
      "image/png": "[encoded data removed]",
      "text/plain": [
       "<Figure size 432x288 with 1 Axes>"
      ]
     },
     "metadata": {
      "needs_background": "light"
     },
     "output_type": "display_data"
    }
   ],
   "source": [
    "# fitting \n",
    "param, cov = curve_fit(powerlaw, deg, cnt)\n",
    "print(\"FIT :: y=\",param[1],\"x^{\",param[0],\"}\\n\")\n",
    "\n",
    "#print(param,cov)\n",
    "\n",
    "deg_fit=np.zeros(len(deg))\n",
    "for i in range(len(deg_fit)):\n",
    "    deg_fit[i] =  param[1]*deg[i]**param[0]\n",
    "#print(Lfit)\n",
    "\n",
    "# R2 value\n",
    "r2=R2(cnt,deg,param,powerlaw)\n",
    "print(\"R2 value::\",r2)\n",
    "\n",
    "# set log-log\n",
    "plt.xscale('log')\n",
    "plt.yscale('log')\n",
    "plt.ylim([0.5,300])\n",
    "plt.xlim([1,100])\n",
    "plt.scatter(deg,cnt,alpha=1.0,label='data')\n",
    "plt.scatter(deg,deg_fit,alpha=0.25,label='FIT') \n",
    "plt.legend()\n",
    "plt.show()\n",
    "# unset logscale \n",
    "plt.scatter(deg,cnt,alpha=1.0,label='data')\n",
    "plt.scatter(deg,deg_fit,alpha=0.25,label='FIT') \n",
    "plt.legend()\n",
    "plt.show()"
   ]
  },
  {
   "cell_type": "code",
   "execution_count": 241,
   "metadata": {},
   "outputs": [
    {
     "name": "stdout",
     "output_type": "stream",
     "text": [
      "FIT :: y= 965.7705557115361 x^{ -1.9151991846412593 }\n",
      "\n",
      "R2 value:: 0.952150594676926\n"
     ]
    },
    {
     "data": {
      "image/png": "[encoded data removed]",
      "text/plain": [
       "<Figure size 432x288 with 1 Axes>"
      ]
     },
     "metadata": {
      "needs_background": "light"
     },
     "output_type": "display_data"
    },
    {
     "data": {
      "image/png": "[encoded data removed]",
      "text/plain": [
       "<Figure size 432x288 with 1 Axes>"
      ]
     },
     "metadata": {
      "needs_background": "light"
     },
     "output_type": "display_data"
    }
   ],
   "source": [
    "# fitting \n",
    "param, cov = curve_fit(powerlaw, Lval, L[0])\n",
    "print(\"FIT :: y=\",param[1],\"x^{\",param[0],\"}\\n\")\n",
    "\n",
    "Lfit=np.zeros(len(Lval))\n",
    "for i in range(len(Lfit)):\n",
    "    Lfit[i] =  param[1]*Lval[i]**param[0]\n",
    "#print(Lfit)\n",
    "\n",
    "# R2 value\n",
    "r2=R2(L[0],Lval,param,powerlaw)\n",
    "print(\"R2 value::\",r2)\n",
    "\n",
    "# set log-log\n",
    "plt.xscale('log')\n",
    "plt.yscale('log')\n",
    "plt.ylim([0.5,100])\n",
    "plt.xlim([0.8,100])\n",
    "plt.scatter(Lval,L[0],alpha=1.0,label='data')\n",
    "plt.scatter(Lval,Lfit,alpha=0.25,label='FIT') \n",
    "plt.legend()\n",
    "plt.show()\n",
    "# unset logscale \n",
    "plt.scatter(Lval,L[0],alpha=1.0,label='data')\n",
    "plt.scatter(Lval,Lfit,alpha=0.25,label='FIT') \n",
    "plt.legend()\n",
    "plt.show()"
   ]
  },
  {
   "cell_type": "code",
   "execution_count": 246,
   "metadata": {},
   "outputs": [
    {
     "name": "stdout",
     "output_type": "stream",
     "text": [
      "FIT :: y= 21.1434621881008 x^{ -0.9739420928306503 }\n",
      "\n",
      "R2 value ::  0.8151869319797712\n"
     ]
    },
    {
     "data": {
      "image/png": "[encoded data removed]",
      "text/plain": [
       "<Figure size 432x288 with 1 Axes>"
      ]
     },
     "metadata": {
      "needs_background": "light"
     },
     "output_type": "display_data"
    },
    {
     "data": {
      "image/png": "[encoded data removed]",
      "text/plain": [
       "<Figure size 432x288 with 1 Axes>"
      ]
     },
     "metadata": {
      "needs_background": "light"
     },
     "output_type": "display_data"
    }
   ],
   "source": [
    "# fitting\n",
    "param, cov = curve_fit(powerlaw, Aval, A[0])\n",
    "print(\"FIT :: y=\",param[1],\"x^{\",param[0],\"}\\n\")\n",
    "#print(param,cov)\n",
    "\n",
    "Afit=np.zeros(len(Aval))\n",
    "for i in range(len(Afit)):\n",
    "    Afit[i] =  param[1]*Aval[i]**param[0]\n",
    "#print(Afit)\n",
    "\n",
    "# R2 values\n",
    "r2=R2(A[0],Aval,param,powerlaw)\n",
    "print(\"R2 value :: \",r2)\n",
    "\n",
    "#\n",
    "plt.xscale('log')\n",
    "plt.yscale('log')\n",
    "plt.ylim([0.8,35])\n",
    "plt.xlim([0.7,17])\n",
    "plt.scatter(Aval,A[0],alpha=1.0,label='data')\n",
    "plt.scatter(Aval,Afit,alpha=0.25,label='FIT')\n",
    "plt.legend()\n",
    "plt.show()\n",
    "#\n",
    "plt.scatter(Aval,A[0],alpha=1.0,label='data')\n",
    "plt.scatter(Aval,Afit,alpha=0.25,label='FIT')\n",
    "plt.legend()\n",
    "plt.show()"
   ]
  },
  {
   "cell_type": "code",
   "execution_count": null,
   "metadata": {},
   "outputs": [],
   "source": []
  },
  {
   "cell_type": "code",
   "execution_count": null,
   "metadata": {},
   "outputs": [],
   "source": []
  }
 ],
 "metadata": {
  "kernelspec": {
   "display_name": "Python 3",
   "language": "python",
   "name": "python3"
  },
  "language_info": {
   "codemirror_mode": {
    "name": "ipython",
    "version": 3
   },
   "file_extension": ".py",
   "mimetype": "text/x-python",
   "name": "python",
   "nbconvert_exporter": "python",
   "pygments_lexer": "ipython3",
   "version": "3.7.1"
  }
 },
 "nbformat": 4,
 "nbformat_minor": 2
}
